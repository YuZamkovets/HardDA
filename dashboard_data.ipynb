{
 "cells": [
  {
   "cell_type": "code",
   "execution_count": 1,
   "metadata": {},
   "outputs": [],
   "source": [
    "import pandas as pd"
   ]
  },
  {
   "cell_type": "code",
   "execution_count": 39,
   "metadata": {},
   "outputs": [],
   "source": [
    "df = pd.read_csv('Karpov.Courses. Monetisation - data.csv')"
   ]
  },
  {
   "cell_type": "code",
   "execution_count": 40,
   "metadata": {},
   "outputs": [],
   "source": [
    "# Подготовим два списка: один для колонок с 'revenue_', другой для 'cnt_'\n",
    "revenue_columns = [col for col in df.columns if 'revenue_' in col]\n",
    "cnt_columns = [col for col in df.columns if 'cnt_' in col]\n",
    "\n",
    "# Определим изначальные колонки\n",
    "base_columns = ['execution_date', 'scale', 'region']\n",
    "\n",
    "# Развернем столбцы с 'revenue_' и 'cnt_'\n",
    "df_revenue = pd.melt(df, id_vars=base_columns, value_vars=revenue_columns, \n",
    "                     var_name='service', value_name='revenue_per_service')\n",
    "df_revenue['service'] = df_revenue['service'].str.replace('revenue_', '')\n",
    "df_revenue = df_revenue[['execution_date', 'scale', 'region', 'service', 'revenue_per_service']]\n",
    "\n",
    "\n",
    "df_cnt = pd.melt(df, id_vars=base_columns, value_vars=cnt_columns, \n",
    "                 var_name='service', value_name='cnt_per_service')\n",
    "df_cnt['service'] = df_cnt['service'].str.replace('cnt_', '')\n",
    "df_cnt = df_cnt[['execution_date', 'scale', 'region', 'service', 'cnt_per_service']]\n",
    "\n",
    "\n"
   ]
  },
  {
   "cell_type": "code",
   "execution_count": 41,
   "metadata": {},
   "outputs": [],
   "source": [
    "# Объединим полученные датафреймы\n",
    "df_per_service = pd.merge(df_revenue, df_cnt, on=base_columns+['service'])"
   ]
  },
  {
   "cell_type": "code",
   "execution_count": 22,
   "metadata": {},
   "outputs": [],
   "source": [
    "df_per_service.to_csv('data_per_service.csv', index=False)"
   ]
  },
  {
   "cell_type": "code",
   "execution_count": 42,
   "metadata": {},
   "outputs": [
    {
     "name": "stdout",
     "output_type": "stream",
     "text": [
      "       scale  avg_contacts_free_ad  free_lister    revenue  free_adverts  \\\n",
      "0      MONTH              1.833427       7798.0   494591.0       20387.0   \n",
      "1       WEEK              1.835393       3132.0    43876.0        5059.0   \n",
      "2        DAY              1.824526       7446.0    64585.0       40641.0   \n",
      "3      MONTH              1.871197      11149.0   629760.0       29957.0   \n",
      "4      MONTH              1.847213       9176.0  1168539.0       26104.0   \n",
      "...      ...                   ...          ...        ...           ...   \n",
      "18034    DAY              2.060089       5308.0    58486.0       11693.0   \n",
      "18035    DAY              1.976965       3461.0    46642.0        9406.0   \n",
      "18036    DAY              1.942373       2274.0    22736.0        3114.0   \n",
      "18037    DAY              1.723164       2706.0    43923.0        5985.0   \n",
      "18038    DAY              1.848868     155831.0  3145564.0      873472.0   \n",
      "\n",
      "       paying_lister_cnt  paying_adverts_cnt  payments_cnt  \\\n",
      "0                 2291.0              3231.0        7041.0   \n",
      "1                  361.0               415.0         549.0   \n",
      "2                  554.0               623.0         837.0   \n",
      "3                 3104.0              4234.0        8964.0   \n",
      "4                 3986.0              5496.0       14084.0   \n",
      "...                  ...                 ...           ...   \n",
      "18034              441.0               509.0         638.0   \n",
      "18035              311.0               339.0         443.0   \n",
      "18036              131.0               148.0         192.0   \n",
      "18037              255.0               287.0         368.0   \n",
      "18038            15264.0             18229.0       23899.0   \n",
      "\n",
      "       sum_contacts_not_free_ad          region  sum_contacts_free_ad  \\\n",
      "0                        1483.0         Воронеж               13043.0   \n",
      "1                        1598.0         Саратов               30596.0   \n",
      "2                         387.0    Екатеринбург                3660.0   \n",
      "3                        1547.0          Самара               19191.0   \n",
      "4                        2084.0  Ростов-на-Дону               19054.0   \n",
      "...                         ...             ...                   ...   \n",
      "18034                     505.0          Самара                2777.0   \n",
      "18035                     181.0           Пермь                1459.0   \n",
      "18036                     155.0         Саратов                1146.0   \n",
      "18037                     171.0       Волгоград                 915.0   \n",
      "18038                   15186.0     Все регионы               80949.0   \n",
      "\n",
      "       all_listers  avg_contacts_not_free_ad  all_adverts execution_date  \n",
      "0            10089                  2.451240        23618     2021-02-01  \n",
      "1             3493                  2.119363         5474     2021-02-01  \n",
      "2             8000                  1.751131        41264     2021-02-01  \n",
      "3            14253                  2.232323        34191     2021-02-01  \n",
      "4            13162                  2.039139        31600     2021-02-01  \n",
      "...            ...                       ...          ...            ...  \n",
      "18034         5749                  2.643979        12202     2023-01-31  \n",
      "18035         3772                  2.011111         9745     2023-01-31  \n",
      "18036         2405                  2.279412         3262     2023-01-31  \n",
      "18037         2961                  2.060241         6272     2023-01-31  \n",
      "18038       171095                  2.458475       891701     2023-01-31  \n",
      "\n",
      "[18039 rows x 15 columns]\n"
     ]
    }
   ],
   "source": [
    "columns_clear = list(set(df.columns) - set(revenue_columns) - set(cnt_columns))\n",
    "\n",
    "df_clear = df[columns_clear]\n",
    "\n",
    "print(df_clear)"
   ]
  },
  {
   "cell_type": "code",
   "execution_count": 27,
   "metadata": {},
   "outputs": [],
   "source": [
    "df_clear.to_csv('df_clear.csv', index=False)"
   ]
  },
  {
   "cell_type": "code",
   "execution_count": 44,
   "metadata": {},
   "outputs": [
    {
     "name": "stderr",
     "output_type": "stream",
     "text": [
      "/opt/anaconda3/lib/python3.7/site-packages/ipykernel_launcher.py:1: SettingWithCopyWarning: \n",
      "A value is trying to be set on a copy of a slice from a DataFrame.\n",
      "Try using .loc[row_indexer,col_indexer] = value instead\n",
      "\n",
      "See the caveats in the documentation: https://pandas.pydata.org/pandas-docs/stable/user_guide/indexing.html#returning-a-view-versus-a-copy\n",
      "  \"\"\"Entry point for launching an IPython kernel.\n"
     ]
    }
   ],
   "source": [
    "df_clear['execution_date'] = pd.to_datetime(df_clear['execution_date'])\n",
    "\n",
    "# Сначала создайте копию вашего DataFrame и сдвиньте 'execution_date' на один год назад\n",
    "df_prev_year = df_clear.copy()\n",
    "df_prev_year['execution_date'] = df_prev_year['execution_date'] + pd.DateOffset(years=1)\n",
    "\n",
    "# Оставьте только столбцы, необходимые для объединения и создания 'revenue_plan'\n",
    "df_prev_year = df_prev_year[['execution_date', 'scale', 'revenue','region']]\n",
    "\n",
    "# Переименуйте столбец 'revenue' на 'revenue_plan' в этой копии\n",
    "df_prev_year.rename(columns={'revenue': 'revenue_plan'}, inplace=True)\n",
    "\n",
    "# Объедините исходный DataFrame с df_prev_year по 'execution_date' и 'scale'\n",
    "df_final = pd.merge(df_clear, df_prev_year, on=['execution_date', 'scale','region'], how='left')\n",
    "\n",
    "df_final['revenue_plan'] = df_final['revenue_plan']*1.15"
   ]
  },
  {
   "cell_type": "code",
   "execution_count": 45,
   "metadata": {},
   "outputs": [
    {
     "name": "stdout",
     "output_type": "stream",
     "text": [
      "       scale  avg_contacts_free_ad  free_lister    revenue  free_adverts  \\\n",
      "0      MONTH              1.833427       7798.0   494591.0       20387.0   \n",
      "1       WEEK              1.835393       3132.0    43876.0        5059.0   \n",
      "2        DAY              1.824526       7446.0    64585.0       40641.0   \n",
      "3      MONTH              1.871197      11149.0   629760.0       29957.0   \n",
      "4      MONTH              1.847213       9176.0  1168539.0       26104.0   \n",
      "...      ...                   ...          ...        ...           ...   \n",
      "18034    DAY              2.060089       5308.0    58486.0       11693.0   \n",
      "18035    DAY              1.976965       3461.0    46642.0        9406.0   \n",
      "18036    DAY              1.942373       2274.0    22736.0        3114.0   \n",
      "18037    DAY              1.723164       2706.0    43923.0        5985.0   \n",
      "18038    DAY              1.848868     155831.0  3145564.0      873472.0   \n",
      "\n",
      "       paying_lister_cnt  paying_adverts_cnt  payments_cnt  \\\n",
      "0                 2291.0              3231.0        7041.0   \n",
      "1                  361.0               415.0         549.0   \n",
      "2                  554.0               623.0         837.0   \n",
      "3                 3104.0              4234.0        8964.0   \n",
      "4                 3986.0              5496.0       14084.0   \n",
      "...                  ...                 ...           ...   \n",
      "18034              441.0               509.0         638.0   \n",
      "18035              311.0               339.0         443.0   \n",
      "18036              131.0               148.0         192.0   \n",
      "18037              255.0               287.0         368.0   \n",
      "18038            15264.0             18229.0       23899.0   \n",
      "\n",
      "       sum_contacts_not_free_ad          region  sum_contacts_free_ad  \\\n",
      "0                        1483.0         Воронеж               13043.0   \n",
      "1                        1598.0         Саратов               30596.0   \n",
      "2                         387.0    Екатеринбург                3660.0   \n",
      "3                        1547.0          Самара               19191.0   \n",
      "4                        2084.0  Ростов-на-Дону               19054.0   \n",
      "...                         ...             ...                   ...   \n",
      "18034                     505.0          Самара                2777.0   \n",
      "18035                     181.0           Пермь                1459.0   \n",
      "18036                     155.0         Саратов                1146.0   \n",
      "18037                     171.0       Волгоград                 915.0   \n",
      "18038                   15186.0     Все регионы               80949.0   \n",
      "\n",
      "       all_listers  avg_contacts_not_free_ad  all_adverts execution_date  \\\n",
      "0            10089                  2.451240        23618     2021-02-01   \n",
      "1             3493                  2.119363         5474     2021-02-01   \n",
      "2             8000                  1.751131        41264     2021-02-01   \n",
      "3            14253                  2.232323        34191     2021-02-01   \n",
      "4            13162                  2.039139        31600     2021-02-01   \n",
      "...            ...                       ...          ...            ...   \n",
      "18034         5749                  2.643979        12202     2023-01-31   \n",
      "18035         3772                  2.011111         9745     2023-01-31   \n",
      "18036         2405                  2.279412         3262     2023-01-31   \n",
      "18037         2961                  2.060241         6272     2023-01-31   \n",
      "18038       171095                  2.458475       891701     2023-01-31   \n",
      "\n",
      "       revenue_plan  \n",
      "0               NaN  \n",
      "1               NaN  \n",
      "2               NaN  \n",
      "3               NaN  \n",
      "4               NaN  \n",
      "...             ...  \n",
      "18034      50357.35  \n",
      "18035      31841.20  \n",
      "18036      12774.20  \n",
      "18037      29296.25  \n",
      "18038    2629661.30  \n",
      "\n",
      "[18039 rows x 16 columns]\n"
     ]
    }
   ],
   "source": [
    "df_final = df_final.drop_duplicates()\n",
    "\n",
    "print(df_final)"
   ]
  },
  {
   "cell_type": "code",
   "execution_count": 46,
   "metadata": {},
   "outputs": [],
   "source": [
    "df_final['deviation'] = (df_final['revenue'] - df_final['revenue_plan']) / df_final['revenue_plan'] * 100\n",
    "\n",
    "df_final['deviation'] = df_final['deviation'].fillna(0)"
   ]
  },
  {
   "cell_type": "code",
   "execution_count": 47,
   "metadata": {},
   "outputs": [
    {
     "name": "stdout",
     "output_type": "stream",
     "text": [
      "       scale  avg_contacts_free_ad  free_lister    revenue  free_adverts  \\\n",
      "0      MONTH              1.833427       7798.0   494591.0       20387.0   \n",
      "1       WEEK              1.835393       3132.0    43876.0        5059.0   \n",
      "2        DAY              1.824526       7446.0    64585.0       40641.0   \n",
      "3      MONTH              1.871197      11149.0   629760.0       29957.0   \n",
      "4      MONTH              1.847213       9176.0  1168539.0       26104.0   \n",
      "...      ...                   ...          ...        ...           ...   \n",
      "18034    DAY              2.060089       5308.0    58486.0       11693.0   \n",
      "18035    DAY              1.976965       3461.0    46642.0        9406.0   \n",
      "18036    DAY              1.942373       2274.0    22736.0        3114.0   \n",
      "18037    DAY              1.723164       2706.0    43923.0        5985.0   \n",
      "18038    DAY              1.848868     155831.0  3145564.0      873472.0   \n",
      "\n",
      "       paying_lister_cnt  paying_adverts_cnt  payments_cnt  \\\n",
      "0                 2291.0              3231.0        7041.0   \n",
      "1                  361.0               415.0         549.0   \n",
      "2                  554.0               623.0         837.0   \n",
      "3                 3104.0              4234.0        8964.0   \n",
      "4                 3986.0              5496.0       14084.0   \n",
      "...                  ...                 ...           ...   \n",
      "18034              441.0               509.0         638.0   \n",
      "18035              311.0               339.0         443.0   \n",
      "18036              131.0               148.0         192.0   \n",
      "18037              255.0               287.0         368.0   \n",
      "18038            15264.0             18229.0       23899.0   \n",
      "\n",
      "       sum_contacts_not_free_ad          region  sum_contacts_free_ad  \\\n",
      "0                        1483.0         Воронеж               13043.0   \n",
      "1                        1598.0         Саратов               30596.0   \n",
      "2                         387.0    Екатеринбург                3660.0   \n",
      "3                        1547.0          Самара               19191.0   \n",
      "4                        2084.0  Ростов-на-Дону               19054.0   \n",
      "...                         ...             ...                   ...   \n",
      "18034                     505.0          Самара                2777.0   \n",
      "18035                     181.0           Пермь                1459.0   \n",
      "18036                     155.0         Саратов                1146.0   \n",
      "18037                     171.0       Волгоград                 915.0   \n",
      "18038                   15186.0     Все регионы               80949.0   \n",
      "\n",
      "       all_listers  avg_contacts_not_free_ad  all_adverts execution_date  \\\n",
      "0            10089                  2.451240        23618     2021-02-01   \n",
      "1             3493                  2.119363         5474     2021-02-01   \n",
      "2             8000                  1.751131        41264     2021-02-01   \n",
      "3            14253                  2.232323        34191     2021-02-01   \n",
      "4            13162                  2.039139        31600     2021-02-01   \n",
      "...            ...                       ...          ...            ...   \n",
      "18034         5749                  2.643979        12202     2023-01-31   \n",
      "18035         3772                  2.011111         9745     2023-01-31   \n",
      "18036         2405                  2.279412         3262     2023-01-31   \n",
      "18037         2961                  2.060241         6272     2023-01-31   \n",
      "18038       171095                  2.458475       891701     2023-01-31   \n",
      "\n",
      "       revenue_plan  deviation  \n",
      "0               NaN   0.000000  \n",
      "1               NaN   0.000000  \n",
      "2               NaN   0.000000  \n",
      "3               NaN   0.000000  \n",
      "4               NaN   0.000000  \n",
      "...             ...        ...  \n",
      "18034      50357.35  16.141934  \n",
      "18035      31841.20  46.483173  \n",
      "18036      12774.20  77.983748  \n",
      "18037      29296.25  49.927038  \n",
      "18038    2629661.30  19.618599  \n",
      "\n",
      "[18039 rows x 17 columns]\n"
     ]
    }
   ],
   "source": [
    "print(df_final)"
   ]
  },
  {
   "cell_type": "code",
   "execution_count": 48,
   "metadata": {},
   "outputs": [],
   "source": [
    "df_final.to_csv('df_clear.csv', index=False)"
   ]
  },
  {
   "cell_type": "code",
   "execution_count": null,
   "metadata": {},
   "outputs": [],
   "source": []
  }
 ],
 "metadata": {
  "kernelspec": {
   "display_name": "Python 3",
   "language": "python",
   "name": "python3"
  },
  "language_info": {
   "codemirror_mode": {
    "name": "ipython",
    "version": 3
   },
   "file_extension": ".py",
   "mimetype": "text/x-python",
   "name": "python",
   "nbconvert_exporter": "python",
   "pygments_lexer": "ipython3",
   "version": "3.7.6"
  }
 },
 "nbformat": 4,
 "nbformat_minor": 4
}
